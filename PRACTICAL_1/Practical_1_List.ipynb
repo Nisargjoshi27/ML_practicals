{
  "nbformat": 4,
  "nbformat_minor": 0,
  "metadata": {
    "kernelspec": {
      "display_name": "Python 3",
      "language": "python",
      "name": "python3"
    },
    "language_info": {
      "codemirror_mode": {
        "name": "ipython",
        "version": 3
      },
      "file_extension": ".py",
      "mimetype": "text/x-python",
      "name": "python",
      "nbconvert_exporter": "python",
      "pygments_lexer": "ipython3",
      "version": "3.8.5"
    },
    "colab": {
      "name": "Practical-1_List.ipynb",
      "provenance": []
    }
  },
  "cells": [
    {
      "cell_type": "code",
      "metadata": {
        "id": "amnF54UKfV7k"
      },
      "source": [
        "# declaring an empty list\n",
        "names = []"
      ],
      "execution_count": 1,
      "outputs": []
    },
    {
      "cell_type": "code",
      "metadata": {
        "id": "Ua2LtOqcfV7t"
      },
      "source": [
        "# appending values in the list\n",
        "names.append('nisarg')\n",
        "names.append('neus')\n",
        "names.append('macta')\n",
        "names.append('parin')"
      ],
      "execution_count": 2,
      "outputs": []
    },
    {
      "cell_type": "code",
      "metadata": {
        "colab": {
          "base_uri": "https://localhost:8080/"
        },
        "id": "bWemh9ypfV7u",
        "outputId": "2465d38e-2984-457f-d16e-09f659c3c3c3"
      },
      "source": [
        "print(names)"
      ],
      "execution_count": 3,
      "outputs": [
        {
          "output_type": "stream",
          "text": [
            "['nisarg', 'neus', 'macta', 'parin']\n"
          ],
          "name": "stdout"
        }
      ]
    },
    {
      "cell_type": "code",
      "metadata": {
        "colab": {
          "base_uri": "https://localhost:8080/"
        },
        "id": "w-CTSm4kfV7v",
        "outputId": "6e16434b-87de-490a-f66a-135fb646c010"
      },
      "source": [
        "# accessing a particular element in the list (Positive Indexing)\n",
        "print(names[0])"
      ],
      "execution_count": 4,
      "outputs": [
        {
          "output_type": "stream",
          "text": [
            "nisarg\n"
          ],
          "name": "stdout"
        }
      ]
    },
    {
      "cell_type": "code",
      "metadata": {
        "colab": {
          "base_uri": "https://localhost:8080/"
        },
        "id": "8YVk4vxEfV7w",
        "outputId": "0e99be1c-295d-47f1-e8a7-d6e49022112c"
      },
      "source": [
        "# accessing from reverse also (Negative Indexing)\n",
        "print(names[-1])"
      ],
      "execution_count": 5,
      "outputs": [
        {
          "output_type": "stream",
          "text": [
            "parin\n"
          ],
          "name": "stdout"
        }
      ]
    },
    {
      "cell_type": "code",
      "metadata": {
        "colab": {
          "base_uri": "https://localhost:8080/"
        },
        "id": "cjSJceq9fV7w",
        "outputId": "4234361a-734e-421a-a3b5-a188586d676b"
      },
      "source": [
        "# creating a list and adding items at the same time\n",
        "marks = [92, 95, 88, 84, 83, 99]\n",
        "marks"
      ],
      "execution_count": 6,
      "outputs": [
        {
          "output_type": "execute_result",
          "data": {
            "text/plain": [
              "[92, 95, 88, 84, 83, 99]"
            ]
          },
          "metadata": {
            "tags": []
          },
          "execution_count": 6
        }
      ]
    },
    {
      "cell_type": "code",
      "metadata": {
        "colab": {
          "base_uri": "https://localhost:8080/"
        },
        "id": "N9hxNMBYfV7x",
        "outputId": "b3bd468e-500f-4f10-efac-2bd3ab424860"
      },
      "source": [
        "# Iteration in a list\n",
        "sum = 0\n",
        "for m in marks:\n",
        "    sum += m\n",
        "    \n",
        "sum"
      ],
      "execution_count": 8,
      "outputs": [
        {
          "output_type": "execute_result",
          "data": {
            "text/plain": [
              "541"
            ]
          },
          "metadata": {
            "tags": []
          },
          "execution_count": 8
        }
      ]
    },
    {
      "cell_type": "code",
      "metadata": {
        "colab": {
          "base_uri": "https://localhost:8080/"
        },
        "id": "bkKZQc2LfV7y",
        "outputId": "e4bec90e-673e-4626-d9e2-13272bd058da"
      },
      "source": [
        "# using len method to find the size of list\n",
        "average = sum / len(marks)\n",
        "average"
      ],
      "execution_count": 9,
      "outputs": [
        {
          "output_type": "execute_result",
          "data": {
            "text/plain": [
              "90.16666666666667"
            ]
          },
          "metadata": {
            "tags": []
          },
          "execution_count": 9
        }
      ]
    },
    {
      "cell_type": "code",
      "metadata": {
        "colab": {
          "base_uri": "https://localhost:8080/"
        },
        "id": "2hfFarCAfV7y",
        "outputId": "3b3cc353-979c-4b2f-b19f-e5506b0ccfe0"
      },
      "source": [
        "# merging of list\n",
        "a = [1,3,5]\n",
        "b = [7,9,11]\n",
        "a.extend(b)\n",
        "print(a)"
      ],
      "execution_count": 10,
      "outputs": [
        {
          "output_type": "stream",
          "text": [
            "[1, 3, 5, 7, 9, 11]\n"
          ],
          "name": "stdout"
        }
      ]
    },
    {
      "cell_type": "code",
      "metadata": {
        "colab": {
          "base_uri": "https://localhost:8080/"
        },
        "id": "22rWS5M5fV7z",
        "outputId": "ca698709-ed59-4b39-cafa-e9e6d566b3c6"
      },
      "source": [
        "# manupulating list\n",
        "\n",
        "# inserting at an index\n",
        "a.insert(2, 15)\n",
        "a"
      ],
      "execution_count": 11,
      "outputs": [
        {
          "output_type": "execute_result",
          "data": {
            "text/plain": [
              "[1, 3, 15, 5, 7, 9, 11]"
            ]
          },
          "metadata": {
            "tags": []
          },
          "execution_count": 11
        }
      ]
    },
    {
      "cell_type": "code",
      "metadata": {
        "colab": {
          "base_uri": "https://localhost:8080/"
        },
        "id": "e-PBh4FYfV7z",
        "outputId": "5d8ee092-7d56-4e2a-8da6-9d4036058a87"
      },
      "source": [
        "# change element\n",
        "a[2] = 17\n",
        "a"
      ],
      "execution_count": 12,
      "outputs": [
        {
          "output_type": "execute_result",
          "data": {
            "text/plain": [
              "[1, 3, 17, 5, 7, 9, 11]"
            ]
          },
          "metadata": {
            "tags": []
          },
          "execution_count": 12
        }
      ]
    },
    {
      "cell_type": "code",
      "metadata": {
        "colab": {
          "base_uri": "https://localhost:8080/"
        },
        "id": "4P-H5p3HfV70",
        "outputId": "ff2c4f50-ad19-4a49-d67e-82d22024dc01"
      },
      "source": [
        "# pop an element at given index\n",
        "a.pop(2)\n",
        "a"
      ],
      "execution_count": 13,
      "outputs": [
        {
          "output_type": "execute_result",
          "data": {
            "text/plain": [
              "[1, 3, 5, 7, 9, 11]"
            ]
          },
          "metadata": {
            "tags": []
          },
          "execution_count": 13
        }
      ]
    },
    {
      "cell_type": "code",
      "metadata": {
        "colab": {
          "base_uri": "https://localhost:8080/"
        },
        "id": "yVSz0g7bfV70",
        "outputId": "130166a4-8fd6-41c0-db48-635c4b5d4be3"
      },
      "source": [
        "a.pop() # simply removes last element\n",
        "a"
      ],
      "execution_count": 14,
      "outputs": [
        {
          "output_type": "execute_result",
          "data": {
            "text/plain": [
              "[1, 3, 5, 7, 9]"
            ]
          },
          "metadata": {
            "tags": []
          },
          "execution_count": 14
        }
      ]
    },
    {
      "cell_type": "code",
      "metadata": {
        "colab": {
          "base_uri": "https://localhost:8080/"
        },
        "id": "6BlCQ2_OfV70",
        "outputId": "8dd84892-6d9c-4b2f-c1c4-709698261160"
      },
      "source": [
        "# remove an element using key\n",
        "a.remove(9)\n",
        "a"
      ],
      "execution_count": 15,
      "outputs": [
        {
          "output_type": "execute_result",
          "data": {
            "text/plain": [
              "[1, 3, 5, 7]"
            ]
          },
          "metadata": {
            "tags": []
          },
          "execution_count": 15
        }
      ]
    },
    {
      "cell_type": "code",
      "metadata": {
        "colab": {
          "base_uri": "https://localhost:8080/"
        },
        "id": "d7HDMYT9fV71",
        "outputId": "dd515622-4d2b-4c92-bd12-5733dbdfe73d"
      },
      "source": [
        "# clear a list\n",
        "a.clear()\n",
        "a"
      ],
      "execution_count": 16,
      "outputs": [
        {
          "output_type": "execute_result",
          "data": {
            "text/plain": [
              "[]"
            ]
          },
          "metadata": {
            "tags": []
          },
          "execution_count": 16
        }
      ]
    },
    {
      "cell_type": "code",
      "metadata": {
        "id": "0tRGxycYfV71"
      },
      "source": [
        ""
      ],
      "execution_count": 16,
      "outputs": []
    }
  ]
}