{
  "nbformat": 4,
  "nbformat_minor": 0,
  "metadata": {
    "kernelspec": {
      "display_name": "Python 3",
      "language": "python",
      "name": "python3"
    },
    "language_info": {
      "codemirror_mode": {
        "name": "ipython",
        "version": 3
      },
      "file_extension": ".py",
      "mimetype": "text/x-python",
      "name": "python",
      "nbconvert_exporter": "python",
      "pygments_lexer": "ipython3",
      "version": "3.8.5"
    },
    "colab": {
      "name": "Practical-1_Dictionary.ipynb",
      "provenance": []
    }
  },
  "cells": [
    {
      "cell_type": "code",
      "metadata": {
        "colab": {
          "base_uri": "https://localhost:8080/"
        },
        "id": "Ezi450zudg8B",
        "outputId": "fe123b50-097f-4f1e-d040-1b06acee679c"
      },
      "source": [
        "# Initializing a dictionary\n",
        "\n",
        "grades = { \"Math\": 3,\n",
        "         \"Physics\": 2.8,\n",
        "         \"Chemistry\": 3.6 }\n",
        "grades"
      ],
      "execution_count": 32,
      "outputs": [
        {
          "output_type": "execute_result",
          "data": {
            "text/plain": [
              "{'Chemistry': 3.6, 'Math': 3, 'Physics': 2.8}"
            ]
          },
          "metadata": {
            "tags": []
          },
          "execution_count": 32
        }
      ]
    },
    {
      "cell_type": "code",
      "metadata": {
        "colab": {
          "base_uri": "https://localhost:8080/"
        },
        "id": "vUOOpLMxdg8L",
        "outputId": "d888b17c-8444-4d2a-d455-bf445390c835"
      },
      "source": [
        "# adding a key-value pair after declaration\n",
        "grades[\"English\"] = 3.5\n",
        "grades"
      ],
      "execution_count": 21,
      "outputs": [
        {
          "output_type": "execute_result",
          "data": {
            "text/plain": [
              "{'Chemistry': 3.6, 'English': 3.5, 'Math': 3, 'Physics': 2.8}"
            ]
          },
          "metadata": {
            "tags": []
          },
          "execution_count": 21
        }
      ]
    },
    {
      "cell_type": "code",
      "metadata": {
        "colab": {
          "base_uri": "https://localhost:8080/"
        },
        "id": "vzClWtFadg8M",
        "outputId": "5066ca1e-046c-485a-f723-c39e50bd54d6"
      },
      "source": [
        "# accessing an element via key\n",
        "grades[\"Math\"]"
      ],
      "execution_count": 22,
      "outputs": [
        {
          "output_type": "execute_result",
          "data": {
            "text/plain": [
              "3"
            ]
          },
          "metadata": {
            "tags": []
          },
          "execution_count": 22
        }
      ]
    },
    {
      "cell_type": "code",
      "metadata": {
        "colab": {
          "base_uri": "https://localhost:8080/"
        },
        "id": "UOfKIVF8dg8M",
        "outputId": "6428331d-af28-4f2c-83ed-c1b0124a7910"
      },
      "source": [
        "# Iterating a dictionary\n",
        "\n",
        "for keys in grades:\n",
        "    print(keys, grades[keys])"
      ],
      "execution_count": 25,
      "outputs": [
        {
          "output_type": "stream",
          "text": [
            "Math 3\n",
            "Physics 2.8\n",
            "Chemistry 3.6\n",
            "English 3.5\n"
          ],
          "name": "stdout"
        }
      ]
    },
    {
      "cell_type": "code",
      "metadata": {
        "colab": {
          "base_uri": "https://localhost:8080/"
        },
        "id": "3Vi3rVwadg8N",
        "outputId": "41202852-79e0-438a-ea62-591b1ef8a760"
      },
      "source": [
        "grades.keys()"
      ],
      "execution_count": 26,
      "outputs": [
        {
          "output_type": "execute_result",
          "data": {
            "text/plain": [
              "dict_keys(['Math', 'Physics', 'Chemistry', 'English'])"
            ]
          },
          "metadata": {
            "tags": []
          },
          "execution_count": 26
        }
      ]
    },
    {
      "cell_type": "code",
      "metadata": {
        "colab": {
          "base_uri": "https://localhost:8080/"
        },
        "id": "9Qj18Kxjdg8N",
        "outputId": "c019c686-1061-4fd1-86c9-523cef1b6a49"
      },
      "source": [
        "# nested dictionary\n",
        "grades[\"Arts\"] = {\"History\": 4.4, \"Music\": 5.0}\n",
        "print(grades)"
      ],
      "execution_count": 27,
      "outputs": [
        {
          "output_type": "stream",
          "text": [
            "{'Math': 3, 'Physics': 2.8, 'Chemistry': 3.6, 'English': 3.5, 'Arts': {'History': 4.4, 'Music': 5.0}}\n"
          ],
          "name": "stdout"
        }
      ]
    },
    {
      "cell_type": "code",
      "metadata": {
        "colab": {
          "base_uri": "https://localhost:8080/"
        },
        "id": "xYmHuO-Hdg8O",
        "outputId": "5d335c36-3845-4711-bf5c-d9d9e10f4774"
      },
      "source": [
        "# removing elements from dictionary\n",
        "\n",
        "del grades[\"Math\"]\n",
        "grades"
      ],
      "execution_count": 28,
      "outputs": [
        {
          "output_type": "execute_result",
          "data": {
            "text/plain": [
              "{'Arts': {'History': 4.4, 'Music': 5.0},\n",
              " 'Chemistry': 3.6,\n",
              " 'English': 3.5,\n",
              " 'Physics': 2.8}"
            ]
          },
          "metadata": {
            "tags": []
          },
          "execution_count": 28
        }
      ]
    },
    {
      "cell_type": "code",
      "metadata": {
        "colab": {
          "base_uri": "https://localhost:8080/"
        },
        "id": "b8hHwIfDdg8O",
        "outputId": "72b1bd5f-7950-4503-ed75-c3f61600c482"
      },
      "source": [
        "del grades[\"Arts\"][\"History\"]\n",
        "grades # removing a nested element"
      ],
      "execution_count": 29,
      "outputs": [
        {
          "output_type": "execute_result",
          "data": {
            "text/plain": [
              "{'Arts': {'Music': 5.0}, 'Chemistry': 3.6, 'English': 3.5, 'Physics': 2.8}"
            ]
          },
          "metadata": {
            "tags": []
          },
          "execution_count": 29
        }
      ]
    },
    {
      "cell_type": "code",
      "metadata": {
        "id": "y99qhqeJdg8P"
      },
      "source": [
        "# deleting the entire dictionary\n",
        "del grades"
      ],
      "execution_count": 30,
      "outputs": []
    },
    {
      "cell_type": "code",
      "metadata": {
        "colab": {
          "base_uri": "https://localhost:8080/"
        },
        "id": "ELLw0376dg8P",
        "outputId": "0db1d9d0-2ffa-4aa8-f360-0324754d2436"
      },
      "source": [
        "grades"
      ],
      "execution_count": 33,
      "outputs": [
        {
          "output_type": "execute_result",
          "data": {
            "text/plain": [
              "{'Chemistry': 3.6, 'Math': 3, 'Physics': 2.8}"
            ]
          },
          "metadata": {
            "tags": []
          },
          "execution_count": 33
        }
      ]
    },
    {
      "cell_type": "code",
      "metadata": {
        "id": "55xb-MS3dg8Q"
      },
      "source": [
        ""
      ],
      "execution_count": 15,
      "outputs": []
    }
  ]
}